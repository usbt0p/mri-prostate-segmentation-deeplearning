{
 "cells": [
  {
   "cell_type": "code",
   "execution_count": null,
   "metadata": {},
   "outputs": [],
   "source": [
    "import os\n",
    "from os.path import join\n",
    "import sys\n",
    "sys.path.append(\"../\")\n",
    "\n",
    "from DataAnalyzer import DataAnalyzer\n",
    "from time import perf_counter\n",
    "\n",
    "DATA_ROOT = \"/home/guest/work/Datasets\"\n",
    "\n",
    "paths = {\n",
    "    \"picai_labels_wg\" : \"picai_labels_all/picai_labels-main/anatomical_delineations/whole_gland/AI/Guerbet23\",\n",
    "    \"picai_labels_zonal\" : \"picai_labels_all/picai_labels-main/anatomical_delineations/zonal_pz_tz/AI/Yuan23\",\n",
    "    \"picai_folds\" : \"picai_folds/\"\n",
    "}\n",
    "\n",
    "analyzer = DataAnalyzer(DATA_ROOT)\n"
   ]
  },
  {
   "cell_type": "markdown",
   "metadata": {},
   "source": [
    "> Every patient case will at least have three imaging sequences: axial T2W, axial DWI and axial ADC scans (i.e. files ending in _t2w.mha, _hbv.mha, _adc.mha). Additionally, they can also have either, both or none of these optional imaging sequences: sagittal and coronal T2W scans (i.e. files ending in _sag.mha, _cor.mha here). "
   ]
  },
  {
   "cell_type": "markdown",
   "metadata": {},
   "source": [
    "Vemos que algunos pacientes tienen imágenes adicionales"
   ]
  },
  {
   "cell_type": "code",
   "execution_count": 4,
   "metadata": {},
   "outputs": [],
   "source": [
    "# pth = os.path.join(paths[\"picai_folds\"])\n",
    "# folds = analyzer.get_dirs(pth)\n",
    "\n",
    "# for fold in folds:\n",
    "#     rel = os.path.join(pth, fold)\n",
    "#     dirs = analyzer.get_dirs(rel)\n",
    "#     incomplete_dirs = []\n",
    "    \n",
    "#     for dir in dirs:\n",
    "#         # check if they all have 5 files\n",
    "#         rel2 = os.path.join(rel, dir)\n",
    "        \n",
    "#         files = analyzer.get_files(rel2)\n",
    "        \n",
    "#         if len(list(files)) != 5:\n",
    "#             print(f\"Directory {dir} has {len(list(files))} files, expected 5.\")\n",
    "#             incomplete_dirs.append(dir)\n",
    "\n",
    "#     print(f\"Number of non-matching directories: {len(incomplete_dirs)}\")\n",
    "\n",
    "#     print(\"Total file count excluding the previous non-matching: \", (len(list(dirs)) - len(incomplete_dirs) ) * 5)\n",
    "\n"
   ]
  },
  {
   "cell_type": "code",
   "execution_count": null,
   "metadata": {},
   "outputs": [
    {
     "name": "stdout",
     "output_type": "stream",
     "text": [
      "['10961', '10851', '10437', '10760', '10615', '11086', '10935', '11313', '10647', '10719', '11021', '10913', '11249', '11392', '10962', '10934', '11353', '10395', '10502', '10156', '10001', '10902', '10908', '11220', '10813', '11003', '10675', '10509', '11020', '10526', '10359', '11176', '11151', '10071', '10129', '11425', '10868', '10761', '11400', '10685', '10198', '11161', '10571', '11137', '11197', '10791', '11159', '10263', '11171', '11166', '10624', '11294', '10521', '11120', '10847', '10772', '11474', '10302', '10921', '11248', '11084', '10065', '10807', '10873', '10195', '11196', '10524', '11111', '11079', '11266', '10029', '11221', '10862', '10599', '11383', '10006', '11285', '10933', '10439', '10085', '10438', '11157', '10595', '11467', '11341', '10078', '10981', '11173', '11234', '11389', '11473', '10834', '11307', '10083', '10282', '10942', '10257', '10392', '10879', '11106', '10062', '10459', '10572', '10747', '11334', '10400', '10736', '10027', '10939', '11035', '10541', '11386', '10745', '10038', '11471', '10310', '10173', '10158', '10649', '10632', '11071', '10167', '11067', '10177', '11222', '10993', '10323', '11095', '10533', '11144', '10045', '10315', '11138', '10196', '10751', '10643', '10836', '10743', '10345', '11332', '10073', '11288', '11352', '10272', '10850', '10035', '10628', '10109', '10041', '10430', '10352', '11200', '10335', '10550', '10298', '10726', '10181', '11064', '10338', '10525', '10368', '10990', '11351', '11304', '10803', '11377', '10020', '10841', '10982', '10515', '11057', '10923', '11346', '10474', '10418', '11469', '10955', '10378', '10479', '10788', '10189', '10146', '10449', '10711', '10193', '10336', '10931', '10730', '11198', '10899', '10701', '11451', '10363', '11442', '11002', '10947', '10385', '10568', '11202', '10501', '10082', '10565', '10784', '11087', '10040', '10080', '10958', '10197', '11090', '10266', '10017', '11007', '10229', '10581', '11183', '10994', '11125', '11135', '10617', '11099', '11260', '10382', '10872', '10528', '10000', '10463', '10770', '10929', '11231', '10648', '10753', '10237', '11006', '11177', '10136', '11330', '11259', '10667', '10680', '10679', '10699', '10997', '10562', '11322', '11165', '10583', '10033', '10301', '11164', '10964', '10522', '11188', '11391', '11149', '10142', '10540', '11094', '10032', '10978', '10775', '10165', '11335', '10243', '10956', '11032', '10500', '10326', '10674', '10602', '10871', '10717', '10782', '11420', '10022', '10003', '10294', '10023', '11212', '10922', '10542', '11128', '11461', '11427', '10092', '10839', '10529', '10780', '10466', '10427', '10985', '10488', '10639', '10059', '11045', '11153']\n",
      "295\n",
      "hello\n",
      "Path picai_folds/picai_images_fold0/10033 does not exist.\n"
     ]
    },
    {
     "ename": "SystemExit",
     "evalue": "1",
     "output_type": "error",
     "traceback": [
      "An exception has occurred, use %tb to see the full traceback.\n",
      "\u001b[31mSystemExit\u001b[39m\u001b[31m:\u001b[39m 1\n"
     ]
    }
   ],
   "source": [
    "import random\n",
    "\n",
    "# pick a random folder and set the name of a file inside as the prefix\n",
    "d = \"picai_folds/picai_images_fold0\"\n",
    "dirs = list(analyzer.get_dirs(d))\n",
    "random_dir = random.choice(dirs)\n",
    "files_in_dir = analyzer.get_files(join(d, random_dir), \".*_t2w.mha$\")\n",
    "\n",
    "name = list(files_in_dir)[0] # we have to do this because get files is a generator\n",
    "f = join(d, random_dir, name)\n",
    "analyzer.show_image(f)\n"
   ]
  },
  {
   "cell_type": "code",
   "execution_count": null,
   "metadata": {},
   "outputs": [],
   "source": [
    "nii = name.split(\"_t2w\")[0] + \".nii.gz\"\n",
    "f = join(paths['picai_labels_zonal'], nii)\n",
    "analyzer.show_image(f)"
   ]
  },
  {
   "cell_type": "markdown",
   "metadata": {},
   "source": [
    "Let's look for possible empty masks, since some of the lesion data was missing"
   ]
  },
  {
   "cell_type": "code",
   "execution_count": null,
   "metadata": {},
   "outputs": [],
   "source": [
    "# non_empty_count, empty_masks = analyzer.count_and_find_non_empty_masks(paths['picai_labels_zonal'])\n",
    "# print(f\"{non_empty_count} out of {non_empty_count+len(empty_masks)} masks are non-empty (contain a segmentation).\")\n",
    "# print(\"Empty mask files:\", empty_masks)"
   ]
  },
  {
   "cell_type": "markdown",
   "metadata": {},
   "source": [
    "Now, we use the function the analyzer to analyze the metadata."
   ]
  },
  {
   "cell_type": "code",
   "execution_count": null,
   "metadata": {},
   "outputs": [],
   "source": [
    "# use this regex to filter the files\n",
    "analyzer.regex = \"(.*_t2w.mha$)|(.*_sag.mha$)|(.*_cor.mha$)\"\n",
    "res = analyzer.collect_metadata_to_dataframe(\"picai_folds/picai_images_fold0/10189\")\n",
    "print(res)\n",
    "\n",
    "start = perf_counter()\n",
    "df = analyzer.collect_metadata_from_subdirs(\"picai_folds/picai_images_fold0\")\n",
    "print(df)\n",
    "print(perf_counter() - start, \"seconds\")"
   ]
  },
  {
   "cell_type": "code",
   "execution_count": null,
   "metadata": {},
   "outputs": [],
   "source": [
    "# for all the rows with vendor SIEMENS, get number of unique mri_names\n",
    "siemens_mri_names = df[df['vendor'] == 'SIEMENS']['mri_name'].value_counts()\n",
    "\n",
    "import matplotlib.pyplot as plt\n",
    "siemens_mri_names.plot(kind='bar')\n",
    "plt.title(\"\"\"Number of unique MRI names for SIEMENS \n",
    "          (total count: {})\"\"\".format(siemens_mri_names.sum()))\n",
    "plt.xlabel(\"MRI Name\")\n",
    "plt.ylabel(\"Count\")\n",
    "plt.show()"
   ]
  },
  {
   "cell_type": "code",
   "execution_count": null,
   "metadata": {},
   "outputs": [],
   "source": [
    "# for all the rows with vendor Philips Medical Systems, get number of unique mri_names\n",
    "phl_mri_names = df[df['vendor'] == 'Philips Medical Systems']['mri_name'].value_counts()\n",
    "\n",
    "# plot in a bar graph\n",
    "import matplotlib.pyplot as plt\n",
    "phl_mri_names.plot(kind='bar')\n",
    "plt.title(\"\"\"Number of unique MRI names for Philips Medical Systems \n",
    "          (total count: {})\"\"\".format(phl_mri_names.sum()))\n",
    "plt.xlabel(\"MRI Name\")\n",
    "plt.ylabel(\"Count\")\n",
    "plt.show()"
   ]
  },
  {
   "cell_type": "code",
   "execution_count": null,
   "metadata": {},
   "outputs": [],
   "source": [
    "orientations = {\"RAI\" : \"axial\", \"ASL\" : \"sagital\", \"RSA\" : \"coronal\"}\n",
    "\n",
    "for orientation, value in orientations.items():\n",
    "    orientation_df = df[df['orientation'] == orientation]\n",
    "    # get the dim_size for each orientation and plot it\n",
    "    dim_sizes = orientation_df['dim_size'].value_counts()\n",
    "\n",
    "    dim_sizes.plot(kind='bar')\n",
    "    plt.title(f\"Dim sizes for orientation {value} (total count: {dim_sizes.sum()})\")\n",
    "    plt.xlabel(\"Dim Size\")\n",
    "    plt.ylabel(\"Count\")\n",
    "    plt.show()"
   ]
  }
 ],
 "metadata": {
  "kernelspec": {
   "display_name": "Python (mientorno)",
   "language": "python",
   "name": ".venv"
  },
  "language_info": {
   "codemirror_mode": {
    "name": "ipython",
    "version": 3
   },
   "file_extension": ".py",
   "mimetype": "text/x-python",
   "name": "python",
   "nbconvert_exporter": "python",
   "pygments_lexer": "ipython3",
   "version": "3.12.3"
  }
 },
 "nbformat": 4,
 "nbformat_minor": 4
}
